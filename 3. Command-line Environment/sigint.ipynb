{
 "cells": [
  {
   "cell_type": "code",
   "execution_count": null,
   "id": "c5d6206e-3c04-468b-ac1c-3e51c2b42902",
   "metadata": {},
   "outputs": [
    {
     "name": "stdout",
     "output_type": "stream",
     "text": [
      "35\n",
      "I got a SIGINT, but I am not stopping\n",
      "57\n",
      "I got a SIGINT, but I am not stopping\n",
      "129"
     ]
    }
   ],
   "source": [
    "#!/usr/bin/env python\n",
    "import signal, time\n",
    "\n",
    "def handler(signum, time):\n",
    "    print(\"\\nI got a SIGINT, but I am not stopping\")\n",
    "    \n",
    "signal.signal(signal.SIGINT, handler)\n",
    "i=0\n",
    "while True:\n",
    "    time.sleep(.1)\n",
    "    print(\"\\r{}\".format(i), end=\"\")\n",
    "    i += 1"
   ]
  },
  {
   "cell_type": "code",
   "execution_count": null,
   "id": "1dddca66-f42b-45b5-bea6-cc7ef5d6b85a",
   "metadata": {},
   "outputs": [],
   "source": []
  }
 ],
 "metadata": {
  "kernelspec": {
   "display_name": "Python 3 (ipykernel)",
   "language": "python",
   "name": "python3"
  },
  "language_info": {
   "codemirror_mode": {
    "name": "ipython",
    "version": 3
   },
   "file_extension": ".py",
   "mimetype": "text/x-python",
   "name": "python",
   "nbconvert_exporter": "python",
   "pygments_lexer": "ipython3",
   "version": "3.9.6"
  }
 },
 "nbformat": 4,
 "nbformat_minor": 5
}
